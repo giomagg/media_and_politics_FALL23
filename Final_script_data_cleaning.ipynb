{
 "cells": [
  {
   "cell_type": "markdown",
   "id": "5ab933c9",
   "metadata": {},
   "source": [
    "# Import libraries"
   ]
  },
  {
   "cell_type": "code",
   "execution_count": 1,
   "id": "04b7426a",
   "metadata": {},
   "outputs": [],
   "source": [
    "import pandas as pd\n",
    "import os\n",
    "import numpy as np\n",
    "from ural import get_domain_name"
   ]
  },
  {
   "cell_type": "markdown",
   "id": "69a50b2f",
   "metadata": {},
   "source": [
    "# Load dataframes"
   ]
  },
  {
   "cell_type": "markdown",
   "id": "3e83207c",
   "metadata": {},
   "source": [
    "Here, I import the datasets \n",
    "- with the edges and nodes info for the four networks\n",
    "- with the media information from the stier paper\n",
    "- the main dataset with all the url of the media in the debate\n",
    "- the list of media from MediaCloud"
   ]
  },
  {
   "cell_type": "code",
   "execution_count": 159,
   "id": "40993032",
   "metadata": {},
   "outputs": [],
   "source": [
    "df_immigration_edges = pd.read_csv(\"/Users/giovanni/masterthesis/6_Preliminary_Analysis/immigration polarization/gephi_data/immigration-edgelist-raw.csv\")\n",
    "df_immigration_nodes = pd.read_csv(\"/Users/giovanni/masterthesis/6_Preliminary_Analysis/immigration polarization/gephi_data/immigration-nodesinfo-raw.csv\")\n",
    "\n",
    "df_lamped_edges = pd.read_csv(\"/Users/giovanni/masterthesis/6_Preliminary_Analysis/immigration polarization/gephi_data/lampedusa-edgelist-raw.csv\")\n",
    "df_lamped_nodes = pd.read_csv(\"/Users/giovanni/masterthesis/6_Preliminary_Analysis/immigration polarization/gephi_data/lampedusa-nodesinfo-raw.csv\")\n",
    "\n",
    "df_stupro_edges = pd.read_csv(\"/Users/giovanni/masterthesis/6_Preliminary_Analysis/immigration polarization/gephi_data/stupro-edgelist-raw.csv\")\n",
    "df_stupro_nodes = pd.read_csv(\"/Users/giovanni/masterthesis/6_Preliminary_Analysis/immigration polarization/gephi_data/stupro-nodesinfo-raw.csv\")\n",
    "\n",
    "df_decreti_edges = pd.read_csv(\"/Users/giovanni/masterthesis/6_Preliminary_Analysis/immigration polarization/gephi_data/decreti-edgelist-raw.csv\")\n",
    "df_decreti_nodes = pd.read_csv(\"/Users/giovanni/masterthesis/6_Preliminary_Analysis/immigration polarization/gephi_data/decreti-nodesinfo-raw.csv\")\n",
    "\n",
    "\n",
    "df_stier = pd.read_csv(\"/Users/giovanni/masterthesis/1_Thesis/data/stier_classification.csv\", sep=\";\")\n",
    "df_complete = pd.read_csv('/Users/giovanni/masterthesis/3_MediaCloud/ita-media-data/ita-media-complete.csv.zip')\n",
    "df_media_list = pd.concat([pd.read_csv('/Users/giovanni/masterthesis/3_MediaCloud/ita-media-lists/national_media.csv'),\n",
    "                           pd.read_csv('/Users/giovanni/masterthesis/3_MediaCloud/ita-media-lists/regional_media.csv')])\n",
    "\n",
    "df_immigration_url = pd.read_csv('/Users/giovanni/masterthesis/3_MediaCloud/ita-media-data/ita-media-immigration-url.csv')\n"
   ]
  },
  {
   "cell_type": "markdown",
   "id": "cad36ff2",
   "metadata": {},
   "source": [
    "# Subselect only media organizations"
   ]
  },
  {
   "cell_type": "code",
   "execution_count": 170,
   "id": "2f06990b",
   "metadata": {},
   "outputs": [],
   "source": [
    "media_domains = []\n",
    "for page in list(df_immigration_url.url.unique()):\n",
    "    try:\n",
    "        domain = get_domain_name(page)\n",
    "        media_domains.append(domain)\n",
    "    except Exception as e:\n",
    "        print(f\"exception for {page}: {e}\")\n",
    "        continue\n",
    "\n",
    "for page in list(df_media_list.homepage.unique()):\n",
    "    try:\n",
    "        domain = get_domain_name(page)\n",
    "        media_domains.append(domain)\n",
    "    except Exception as e:\n",
    "        print(f\"exception for {page}: {e}\")\n",
    "        continue"
   ]
  },
  {
   "cell_type": "markdown",
   "id": "880f4d1e",
   "metadata": {},
   "source": [
    "### On the edges"
   ]
  },
  {
   "cell_type": "code",
   "execution_count": 172,
   "id": "0f2116f2",
   "metadata": {},
   "outputs": [],
   "source": [
    "df_immigration_edges[\"source_label\"] = df_immigration_edges[\"Source\"].map(df_immigration_nodes.set_index(\"Id\")[\"Label\"])\n",
    "df_immigration_edges[\"destination_label\"] = df_immigration_edges[\"Target\"].map(df_immigration_nodes.set_index(\"Id\")[\"Label\"])\n",
    "\n",
    "df_stupro_edges[\"source_label\"] = df_stupro_edges[\"Source\"].map(df_stupro_nodes.set_index(\"Id\")[\"Label\"])\n",
    "df_stupro_edges[\"destination_label\"] = df_stupro_edges[\"Target\"].map(df_stupro_nodes.set_index(\"Id\")[\"Label\"])\n",
    "\n",
    "df_decreti_edges[\"source_label\"] = df_decreti_edges[\"Source\"].map(df_decreti_nodes.set_index(\"Id\")[\"Label\"])\n",
    "df_decreti_edges[\"destination_label\"] = df_decreti_edges[\"Target\"].map(df_decreti_nodes.set_index(\"Id\")[\"Label\"])\n",
    "\n",
    "df_lamped_edges[\"source_label\"] = df_lamped_edges[\"Source\"].map(df_lamped_nodes.set_index(\"Id\")[\"Label\"])\n",
    "df_lamped_edges[\"destination_label\"] = df_lamped_edges[\"Target\"].map(df_lamped_nodes.set_index(\"Id\")[\"Label\"])\n"
   ]
  },
  {
   "cell_type": "code",
   "execution_count": 173,
   "id": "47ee1a6d",
   "metadata": {},
   "outputs": [
    {
     "name": "stderr",
     "output_type": "stream",
     "text": [
      "/var/folders/zb/cxb4bvjs4x73pskfrpb9cpg40000gn/T/ipykernel_12072/3927616221.py:8: SettingWithCopyWarning: \n",
      "A value is trying to be set on a copy of a slice from a DataFrame.\n",
      "Try using .loc[row_indexer,col_indexer] = value instead\n",
      "\n",
      "See the caveats in the documentation: https://pandas.pydata.org/pandas-docs/stable/user_guide/indexing.html#returning-a-view-versus-a-copy\n",
      "  df_stupro_edges[column] = df_stupro_edges[column].str.lower()\n",
      "/var/folders/zb/cxb4bvjs4x73pskfrpb9cpg40000gn/T/ipykernel_12072/3927616221.py:11: SettingWithCopyWarning: \n",
      "A value is trying to be set on a copy of a slice from a DataFrame.\n",
      "Try using .loc[row_indexer,col_indexer] = value instead\n",
      "\n",
      "See the caveats in the documentation: https://pandas.pydata.org/pandas-docs/stable/user_guide/indexing.html#returning-a-view-versus-a-copy\n",
      "  df_decreti_edges[column] = df_decreti_edges[column].str.lower()\n"
     ]
    }
   ],
   "source": [
    "columns = [\"source_label\",\"destination_label\"]\n",
    "dataframes = [df_immigration_edges,df_stupro_edges,df_decreti_edges,df_lamped_edges]\n",
    "\n",
    "for column in columns:\n",
    "    df_immigration_edges[column] = df_immigration_edges[column].str.lower()        \n",
    "    df_immigration_edges = df_immigration_edges[df_immigration_edges[column].isin(media_domains)]\n",
    "    \n",
    "    df_stupro_edges[column] = df_stupro_edges[column].str.lower()        \n",
    "    df_stupro_edges = df_stupro_edges[df_stupro_edges[column].isin(media_domains)]\n",
    "    \n",
    "    df_decreti_edges[column] = df_decreti_edges[column].str.lower()        \n",
    "    df_decreti_edges = df_decreti_edges[df_decreti_edges[column].isin(media_domains)]\n",
    "    \n",
    "    df_lamped_edges[column] = df_lamped_edges[column].str.lower()        \n",
    "    df_lamped_edges = df_lamped_edges[df_lamped_edges[column].isin(media_domains)]\n",
    "    "
   ]
  },
  {
   "cell_type": "code",
   "execution_count": 174,
   "id": "10762456",
   "metadata": {},
   "outputs": [
    {
     "name": "stdout",
     "output_type": "stream",
     "text": [
      "474\n",
      "113\n",
      "144\n",
      "143\n"
     ]
    }
   ],
   "source": [
    "print(len(df_immigration_edges))\n",
    "print(len(df_stupro_edges))\n",
    "print(len(df_decreti_edges))\n",
    "print(len(df_lamped_edges))"
   ]
  },
  {
   "cell_type": "markdown",
   "id": "a413368e",
   "metadata": {},
   "source": [
    "### On the nodes"
   ]
  },
  {
   "cell_type": "code",
   "execution_count": 175,
   "id": "bbf8da3e",
   "metadata": {},
   "outputs": [],
   "source": [
    "dataframes_nodes = [df_immigration_nodes, df_stupro_nodes, df_decreti_nodes, df_lamped_nodes]\n",
    "for df in dataframes_nodes:\n",
    "    df[\"domain\"] = df[\"Label\"].str.lower()"
   ]
  },
  {
   "cell_type": "code",
   "execution_count": 176,
   "id": "8f160fbd",
   "metadata": {},
   "outputs": [],
   "source": [
    "df_immigration_nodes = df_immigration_nodes[df_immigration_nodes[\"domain\"].isin(media_domains)]\n",
    "df_stupro_nodes = df_stupro_nodes[df_stupro_nodes[\"domain\"].isin(media_domains)]\n",
    "df_decreti_nodes = df_decreti_nodes[df_decreti_nodes[\"domain\"].isin(media_domains)]\n",
    "df_lamped_nodes = df_lamped_nodes[df_lamped_nodes[\"domain\"].isin(media_domains)]"
   ]
  },
  {
   "cell_type": "code",
   "execution_count": 177,
   "id": "a8d2792b",
   "metadata": {},
   "outputs": [
    {
     "name": "stdout",
     "output_type": "stream",
     "text": [
      "350\n",
      "92\n",
      "126\n",
      "145\n"
     ]
    }
   ],
   "source": [
    "print(len(df_immigration_nodes))\n",
    "print(len(df_stupro_nodes))\n",
    "print(len(df_decreti_nodes))\n",
    "print(len(df_lamped_nodes))"
   ]
  },
  {
   "cell_type": "markdown",
   "id": "f9ebb12b",
   "metadata": {},
   "source": [
    "# Add stier classification"
   ]
  },
  {
   "cell_type": "code",
   "execution_count": 178,
   "id": "8f9e6484",
   "metadata": {},
   "outputs": [
    {
     "data": {
      "text/html": [
       "<div>\n",
       "<style scoped>\n",
       "    .dataframe tbody tr th:only-of-type {\n",
       "        vertical-align: middle;\n",
       "    }\n",
       "\n",
       "    .dataframe tbody tr th {\n",
       "        vertical-align: top;\n",
       "    }\n",
       "\n",
       "    .dataframe thead th {\n",
       "        text-align: right;\n",
       "    }\n",
       "</style>\n",
       "<table border=\"1\" class=\"dataframe\">\n",
       "  <thead>\n",
       "    <tr style=\"text-align: right;\">\n",
       "      <th></th>\n",
       "      <th>number</th>\n",
       "      <th>name</th>\n",
       "    </tr>\n",
       "  </thead>\n",
       "  <tbody>\n",
       "    <tr>\n",
       "      <th>0</th>\n",
       "      <td>0</td>\n",
       "      <td>0</td>\n",
       "    </tr>\n",
       "    <tr>\n",
       "      <th>1</th>\n",
       "      <td>1</td>\n",
       "      <td>Quality print outlets</td>\n",
       "    </tr>\n",
       "    <tr>\n",
       "      <th>2</th>\n",
       "      <td>2</td>\n",
       "      <td>Commercial broadcasting</td>\n",
       "    </tr>\n",
       "    <tr>\n",
       "      <th>3</th>\n",
       "      <td>3</td>\n",
       "      <td>Public broadcasting</td>\n",
       "    </tr>\n",
       "    <tr>\n",
       "      <th>4</th>\n",
       "      <td>4</td>\n",
       "      <td>Tabloid press</td>\n",
       "    </tr>\n",
       "    <tr>\n",
       "      <th>5</th>\n",
       "      <td>5</td>\n",
       "      <td>Digital−born outlets</td>\n",
       "    </tr>\n",
       "    <tr>\n",
       "      <th>6</th>\n",
       "      <td>6</td>\n",
       "      <td>Hyperpartisan news</td>\n",
       "    </tr>\n",
       "  </tbody>\n",
       "</table>\n",
       "</div>"
      ],
      "text/plain": [
       "   number                     name\n",
       "0       0                        0\n",
       "1       1    Quality print outlets\n",
       "2       2  Commercial broadcasting\n",
       "3       3      Public broadcasting\n",
       "4       4            Tabloid press\n",
       "5       5     Digital−born outlets\n",
       "6       6       Hyperpartisan news"
      ]
     },
     "execution_count": 178,
     "metadata": {},
     "output_type": "execute_result"
    }
   ],
   "source": [
    "types_dic={\"number\":[0,1,2,3,4,5,6],\n",
    "           \"name\":[0, 'Quality print outlets', 'Commercial broadcasting','Public broadcasting',\n",
    "                   'Tabloid press', 'Digital−born outlets','Hyperpartisan news']}\n",
    "types_df=pd.DataFrame(data=types_dic, columns=['number','name'])\n",
    "types_df"
   ]
  },
  {
   "cell_type": "code",
   "execution_count": 179,
   "id": "6a4b6369",
   "metadata": {},
   "outputs": [
    {
     "name": "stderr",
     "output_type": "stream",
     "text": [
      "/var/folders/zb/cxb4bvjs4x73pskfrpb9cpg40000gn/T/ipykernel_12072/1892103034.py:2: SettingWithCopyWarning: \n",
      "A value is trying to be set on a copy of a slice from a DataFrame.\n",
      "Try using .loc[row_indexer,col_indexer] = value instead\n",
      "\n",
      "See the caveats in the documentation: https://pandas.pydata.org/pandas-docs/stable/user_guide/indexing.html#returning-a-view-versus-a-copy\n",
      "  df_immigration_nodes[\"media_type\"]=df_immigration_nodes[\"domain\"].map(df_stier.set_index(\"domain\")[\"type\"])\n",
      "/var/folders/zb/cxb4bvjs4x73pskfrpb9cpg40000gn/T/ipykernel_12072/1892103034.py:3: SettingWithCopyWarning: \n",
      "A value is trying to be set on a copy of a slice from a DataFrame.\n",
      "Try using .loc[row_indexer,col_indexer] = value instead\n",
      "\n",
      "See the caveats in the documentation: https://pandas.pydata.org/pandas-docs/stable/user_guide/indexing.html#returning-a-view-versus-a-copy\n",
      "  df_immigration_nodes[\"media_type\"]=df_immigration_nodes[\"media_type\"].fillna(0)\n",
      "/var/folders/zb/cxb4bvjs4x73pskfrpb9cpg40000gn/T/ipykernel_12072/1892103034.py:5: SettingWithCopyWarning: \n",
      "A value is trying to be set on a copy of a slice from a DataFrame.\n",
      "Try using .loc[row_indexer,col_indexer] = value instead\n",
      "\n",
      "See the caveats in the documentation: https://pandas.pydata.org/pandas-docs/stable/user_guide/indexing.html#returning-a-view-versus-a-copy\n",
      "  df_immigration_nodes[\"media_class\"]=df_immigration_nodes[\"media_type\"].map(types_df.set_index(\"name\")[\"number\"])\n",
      "/var/folders/zb/cxb4bvjs4x73pskfrpb9cpg40000gn/T/ipykernel_12072/1892103034.py:7: SettingWithCopyWarning: \n",
      "A value is trying to be set on a copy of a slice from a DataFrame.\n",
      "Try using .loc[row_indexer,col_indexer] = value instead\n",
      "\n",
      "See the caveats in the documentation: https://pandas.pydata.org/pandas-docs/stable/user_guide/indexing.html#returning-a-view-versus-a-copy\n",
      "  df_stupro_nodes[\"media_type\"]=df_stupro_nodes[\"domain\"].map(df_stier.set_index(\"domain\")[\"type\"])\n",
      "/var/folders/zb/cxb4bvjs4x73pskfrpb9cpg40000gn/T/ipykernel_12072/1892103034.py:8: SettingWithCopyWarning: \n",
      "A value is trying to be set on a copy of a slice from a DataFrame.\n",
      "Try using .loc[row_indexer,col_indexer] = value instead\n",
      "\n",
      "See the caveats in the documentation: https://pandas.pydata.org/pandas-docs/stable/user_guide/indexing.html#returning-a-view-versus-a-copy\n",
      "  df_stupro_nodes[\"media_type\"]=df_stupro_nodes[\"media_type\"].fillna(0)\n",
      "/var/folders/zb/cxb4bvjs4x73pskfrpb9cpg40000gn/T/ipykernel_12072/1892103034.py:9: SettingWithCopyWarning: \n",
      "A value is trying to be set on a copy of a slice from a DataFrame.\n",
      "Try using .loc[row_indexer,col_indexer] = value instead\n",
      "\n",
      "See the caveats in the documentation: https://pandas.pydata.org/pandas-docs/stable/user_guide/indexing.html#returning-a-view-versus-a-copy\n",
      "  df_stupro_nodes[\"media_class\"]=df_stupro_nodes[\"media_type\"].map(types_df.set_index(\"name\")[\"number\"])\n",
      "/var/folders/zb/cxb4bvjs4x73pskfrpb9cpg40000gn/T/ipykernel_12072/1892103034.py:11: SettingWithCopyWarning: \n",
      "A value is trying to be set on a copy of a slice from a DataFrame.\n",
      "Try using .loc[row_indexer,col_indexer] = value instead\n",
      "\n",
      "See the caveats in the documentation: https://pandas.pydata.org/pandas-docs/stable/user_guide/indexing.html#returning-a-view-versus-a-copy\n",
      "  df_decreti_nodes[\"media_type\"]=df_decreti_nodes[\"domain\"].map(df_stier.set_index(\"domain\")[\"type\"])\n",
      "/var/folders/zb/cxb4bvjs4x73pskfrpb9cpg40000gn/T/ipykernel_12072/1892103034.py:12: SettingWithCopyWarning: \n",
      "A value is trying to be set on a copy of a slice from a DataFrame.\n",
      "Try using .loc[row_indexer,col_indexer] = value instead\n",
      "\n",
      "See the caveats in the documentation: https://pandas.pydata.org/pandas-docs/stable/user_guide/indexing.html#returning-a-view-versus-a-copy\n",
      "  df_decreti_nodes[\"media_type\"]=df_decreti_nodes[\"media_type\"].fillna(0)\n",
      "/var/folders/zb/cxb4bvjs4x73pskfrpb9cpg40000gn/T/ipykernel_12072/1892103034.py:13: SettingWithCopyWarning: \n",
      "A value is trying to be set on a copy of a slice from a DataFrame.\n",
      "Try using .loc[row_indexer,col_indexer] = value instead\n",
      "\n",
      "See the caveats in the documentation: https://pandas.pydata.org/pandas-docs/stable/user_guide/indexing.html#returning-a-view-versus-a-copy\n",
      "  df_decreti_nodes[\"media_class\"]=df_decreti_nodes[\"media_type\"].map(types_df.set_index(\"name\")[\"number\"])\n",
      "/var/folders/zb/cxb4bvjs4x73pskfrpb9cpg40000gn/T/ipykernel_12072/1892103034.py:15: SettingWithCopyWarning: \n",
      "A value is trying to be set on a copy of a slice from a DataFrame.\n",
      "Try using .loc[row_indexer,col_indexer] = value instead\n",
      "\n",
      "See the caveats in the documentation: https://pandas.pydata.org/pandas-docs/stable/user_guide/indexing.html#returning-a-view-versus-a-copy\n",
      "  df_lamped_nodes[\"media_type\"]=df_lamped_nodes[\"domain\"].map(df_stier.set_index(\"domain\")[\"type\"])\n",
      "/var/folders/zb/cxb4bvjs4x73pskfrpb9cpg40000gn/T/ipykernel_12072/1892103034.py:16: SettingWithCopyWarning: \n",
      "A value is trying to be set on a copy of a slice from a DataFrame.\n",
      "Try using .loc[row_indexer,col_indexer] = value instead\n",
      "\n",
      "See the caveats in the documentation: https://pandas.pydata.org/pandas-docs/stable/user_guide/indexing.html#returning-a-view-versus-a-copy\n",
      "  df_lamped_nodes[\"media_type\"]=df_lamped_nodes[\"media_type\"].fillna(0)\n",
      "/var/folders/zb/cxb4bvjs4x73pskfrpb9cpg40000gn/T/ipykernel_12072/1892103034.py:17: SettingWithCopyWarning: \n",
      "A value is trying to be set on a copy of a slice from a DataFrame.\n",
      "Try using .loc[row_indexer,col_indexer] = value instead\n",
      "\n",
      "See the caveats in the documentation: https://pandas.pydata.org/pandas-docs/stable/user_guide/indexing.html#returning-a-view-versus-a-copy\n",
      "  df_lamped_nodes[\"media_class\"]=df_lamped_nodes[\"media_type\"].map(types_df.set_index(\"name\")[\"number\"])\n"
     ]
    }
   ],
   "source": [
    "#1. map stier's classification\n",
    "df_immigration_nodes[\"media_type\"]=df_immigration_nodes[\"domain\"].map(df_stier.set_index(\"domain\")[\"type\"])\n",
    "df_immigration_nodes[\"media_type\"]=df_immigration_nodes[\"media_type\"].fillna(0)\n",
    "#2. map the class number\n",
    "df_immigration_nodes[\"media_class\"]=df_immigration_nodes[\"media_type\"].map(types_df.set_index(\"name\")[\"number\"])\n",
    "\n",
    "df_stupro_nodes[\"media_type\"]=df_stupro_nodes[\"domain\"].map(df_stier.set_index(\"domain\")[\"type\"])\n",
    "df_stupro_nodes[\"media_type\"]=df_stupro_nodes[\"media_type\"].fillna(0)\n",
    "df_stupro_nodes[\"media_class\"]=df_stupro_nodes[\"media_type\"].map(types_df.set_index(\"name\")[\"number\"])\n",
    "\n",
    "df_decreti_nodes[\"media_type\"]=df_decreti_nodes[\"domain\"].map(df_stier.set_index(\"domain\")[\"type\"])\n",
    "df_decreti_nodes[\"media_type\"]=df_decreti_nodes[\"media_type\"].fillna(0)\n",
    "df_decreti_nodes[\"media_class\"]=df_decreti_nodes[\"media_type\"].map(types_df.set_index(\"name\")[\"number\"])\n",
    "\n",
    "df_lamped_nodes[\"media_type\"]=df_lamped_nodes[\"domain\"].map(df_stier.set_index(\"domain\")[\"type\"])\n",
    "df_lamped_nodes[\"media_type\"]=df_lamped_nodes[\"media_type\"].fillna(0)\n",
    "df_lamped_nodes[\"media_class\"]=df_lamped_nodes[\"media_type\"].map(types_df.set_index(\"name\")[\"number\"])"
   ]
  },
  {
   "cell_type": "markdown",
   "id": "646e2982",
   "metadata": {},
   "source": [
    "# Remove nodes with no connections"
   ]
  },
  {
   "cell_type": "code",
   "execution_count": 180,
   "id": "731ff2e9",
   "metadata": {},
   "outputs": [],
   "source": [
    "def remove_disconnected(df_nodes, df_edges):\n",
    "    connected_nodes = []\n",
    "    list1=list(df_edges['source_label'].unique())\n",
    "    list2=list(df_edges['destination_label'].unique())\n",
    "    connected_nodes=list1+list2\n",
    "    \n",
    "    connected_df = df_nodes[df_nodes.domain.isin(connected_nodes)]\n",
    "    \n",
    "    return connected_df"
   ]
  },
  {
   "cell_type": "code",
   "execution_count": 181,
   "id": "3b13f58f",
   "metadata": {},
   "outputs": [],
   "source": [
    "df_immigration_nodes_connected = remove_disconnected(df_immigration_nodes,df_immigration_edges)\n",
    "df_stupro_nodes_connected = remove_disconnected(df_stupro_nodes,df_stupro_edges)\n",
    "df_decreti_nodes_connected = remove_disconnected(df_decreti_nodes,df_decreti_edges)\n",
    "df_lamped_nodes_connected = remove_disconnected(df_lamped_nodes,df_lamped_edges)"
   ]
  },
  {
   "cell_type": "markdown",
   "id": "81d96dd7",
   "metadata": {},
   "source": [
    "# Select only columns of interest"
   ]
  },
  {
   "cell_type": "code",
   "execution_count": 182,
   "id": "f2140228",
   "metadata": {},
   "outputs": [],
   "source": [
    "columns=['Id','Label','domain','media_type', 'media_class','status','pages_crawled']\n",
    "\n",
    "df_immigration_nodes_connected=df_immigration_nodes_connected[columns]\n",
    "df_stupro_nodes_connected=df_stupro_nodes_connected[columns]\n",
    "df_decreti_nodes_connected=df_decreti_nodes_connected[columns]\n",
    "df_lamped_nodes_connected=df_lamped_nodes_connected[columns]"
   ]
  },
  {
   "cell_type": "markdown",
   "id": "6095da7a",
   "metadata": {},
   "source": [
    "# Save edegelists and nodes info to csv"
   ]
  },
  {
   "cell_type": "code",
   "execution_count": 183,
   "id": "c13ad9ae",
   "metadata": {},
   "outputs": [],
   "source": [
    "#nodes\n",
    "df_immigration_nodes_connected.to_csv(\"/Users/giovanni/masterthesis/6_Preliminary_Analysis/immigration polarization/final_edgelists/immigration_nodes.csv\", index=False)\n",
    "df_stupro_nodes_connected.to_csv(\"/Users/giovanni/masterthesis/6_Preliminary_Analysis/immigration polarization/final_edgelists/stupro_nodes.csv\", index=False)\n",
    "df_decreti_nodes_connected.to_csv(\"/Users/giovanni/masterthesis/6_Preliminary_Analysis/immigration polarization/final_edgelists/decreti_nodes.csv\", index=False)\n",
    "df_lamped_nodes_connected.to_csv(\"/Users/giovanni/masterthesis/6_Preliminary_Analysis/immigration polarization/final_edgelists/lampedusa_nodes.csv\", index=False)\n",
    "\n",
    "#edges\n",
    "df_immigration_edges.to_csv(\"/Users/giovanni/masterthesis/6_Preliminary_Analysis/immigration polarization/final_edgelists/immigration_edges.csv\", index=False)\n",
    "df_stupro_edges.to_csv(\"/Users/giovanni/masterthesis/6_Preliminary_Analysis/immigration polarization/final_edgelists/stupro_edges.csv\", index=False)\n",
    "df_decreti_edges.to_csv(\"/Users/giovanni/masterthesis/6_Preliminary_Analysis/immigration polarization/final_edgelists/decreti_edges.csv\", index=False)\n",
    "df_lamped_edges.to_csv(\"/Users/giovanni/masterthesis/6_Preliminary_Analysis/immigration polarization/final_edgelists/lampedusa_edges.csv\", index=False)"
   ]
  }
 ],
 "metadata": {
  "kernelspec": {
   "display_name": "Python 3 (ipykernel)",
   "language": "python",
   "name": "python3"
  },
  "language_info": {
   "codemirror_mode": {
    "name": "ipython",
    "version": 3
   },
   "file_extension": ".py",
   "mimetype": "text/x-python",
   "name": "python",
   "nbconvert_exporter": "python",
   "pygments_lexer": "ipython3",
   "version": "3.9.13"
  }
 },
 "nbformat": 4,
 "nbformat_minor": 5
}
